{
 "cells": [
  {
   "cell_type": "code",
   "execution_count": 173,
   "metadata": {},
   "outputs": [
    {
     "data": {
      "text/html": [
       "<div>\n",
       "<style scoped>\n",
       "    .dataframe tbody tr th:only-of-type {\n",
       "        vertical-align: middle;\n",
       "    }\n",
       "\n",
       "    .dataframe tbody tr th {\n",
       "        vertical-align: top;\n",
       "    }\n",
       "\n",
       "    .dataframe thead th {\n",
       "        text-align: right;\n",
       "    }\n",
       "</style>\n",
       "<table border=\"1\" class=\"dataframe\">\n",
       "  <thead>\n",
       "    <tr style=\"text-align: right;\">\n",
       "      <th></th>\n",
       "      <th>ph</th>\n",
       "      <th>Hardness</th>\n",
       "      <th>Solids</th>\n",
       "      <th>Chloramines</th>\n",
       "      <th>Sulfate</th>\n",
       "      <th>Conductivity</th>\n",
       "      <th>Organic_carbon</th>\n",
       "      <th>Trihalomethanes</th>\n",
       "      <th>Turbidity</th>\n",
       "      <th>Potability</th>\n",
       "    </tr>\n",
       "  </thead>\n",
       "  <tbody>\n",
       "    <tr>\n",
       "      <th>0</th>\n",
       "      <td>0.502784</td>\n",
       "      <td>0.571139</td>\n",
       "      <td>0.336096</td>\n",
       "      <td>0.543891</td>\n",
       "      <td>0.680385</td>\n",
       "      <td>0.669439</td>\n",
       "      <td>0.313402</td>\n",
       "      <td>0.699753</td>\n",
       "      <td>0.286091</td>\n",
       "      <td>0.0</td>\n",
       "    </tr>\n",
       "    <tr>\n",
       "      <th>1</th>\n",
       "      <td>0.265434</td>\n",
       "      <td>0.297400</td>\n",
       "      <td>0.300611</td>\n",
       "      <td>0.491839</td>\n",
       "      <td>0.602571</td>\n",
       "      <td>0.719411</td>\n",
       "      <td>0.497319</td>\n",
       "      <td>0.450999</td>\n",
       "      <td>0.576793</td>\n",
       "      <td>0.0</td>\n",
       "    </tr>\n",
       "    <tr>\n",
       "      <th>2</th>\n",
       "      <td>0.578509</td>\n",
       "      <td>0.641311</td>\n",
       "      <td>0.321619</td>\n",
       "      <td>0.698543</td>\n",
       "      <td>0.563298</td>\n",
       "      <td>0.414652</td>\n",
       "      <td>0.562017</td>\n",
       "      <td>0.532866</td>\n",
       "      <td>0.303637</td>\n",
       "      <td>0.0</td>\n",
       "    </tr>\n",
       "    <tr>\n",
       "      <th>3</th>\n",
       "      <td>0.594055</td>\n",
       "      <td>0.605536</td>\n",
       "      <td>0.356244</td>\n",
       "      <td>0.603314</td>\n",
       "      <td>0.647347</td>\n",
       "      <td>0.317880</td>\n",
       "      <td>0.622089</td>\n",
       "      <td>0.808065</td>\n",
       "      <td>0.601015</td>\n",
       "      <td>0.0</td>\n",
       "    </tr>\n",
       "    <tr>\n",
       "      <th>4</th>\n",
       "      <td>0.649445</td>\n",
       "      <td>0.484851</td>\n",
       "      <td>0.289922</td>\n",
       "      <td>0.484900</td>\n",
       "      <td>0.514545</td>\n",
       "      <td>0.379337</td>\n",
       "      <td>0.358555</td>\n",
       "      <td>0.253606</td>\n",
       "      <td>0.496327</td>\n",
       "      <td>0.0</td>\n",
       "    </tr>\n",
       "    <tr>\n",
       "      <th>...</th>\n",
       "      <td>...</td>\n",
       "      <td>...</td>\n",
       "      <td>...</td>\n",
       "      <td>...</td>\n",
       "      <td>...</td>\n",
       "      <td>...</td>\n",
       "      <td>...</td>\n",
       "      <td>...</td>\n",
       "      <td>...</td>\n",
       "      <td>...</td>\n",
       "    </tr>\n",
       "    <tr>\n",
       "      <th>3991</th>\n",
       "      <td>0.560356</td>\n",
       "      <td>0.434710</td>\n",
       "      <td>0.215044</td>\n",
       "      <td>0.535173</td>\n",
       "      <td>0.515598</td>\n",
       "      <td>0.341800</td>\n",
       "      <td>0.578386</td>\n",
       "      <td>0.497830</td>\n",
       "      <td>0.644700</td>\n",
       "      <td>1.0</td>\n",
       "    </tr>\n",
       "    <tr>\n",
       "      <th>3992</th>\n",
       "      <td>0.369342</td>\n",
       "      <td>0.453484</td>\n",
       "      <td>0.419993</td>\n",
       "      <td>0.555453</td>\n",
       "      <td>0.659636</td>\n",
       "      <td>0.310077</td>\n",
       "      <td>0.418230</td>\n",
       "      <td>0.518917</td>\n",
       "      <td>0.459890</td>\n",
       "      <td>1.0</td>\n",
       "    </tr>\n",
       "    <tr>\n",
       "      <th>3993</th>\n",
       "      <td>0.514873</td>\n",
       "      <td>0.394047</td>\n",
       "      <td>0.550464</td>\n",
       "      <td>0.706030</td>\n",
       "      <td>0.415335</td>\n",
       "      <td>0.544953</td>\n",
       "      <td>0.446907</td>\n",
       "      <td>0.582838</td>\n",
       "      <td>0.610959</td>\n",
       "      <td>1.0</td>\n",
       "    </tr>\n",
       "    <tr>\n",
       "      <th>3994</th>\n",
       "      <td>0.500670</td>\n",
       "      <td>0.484272</td>\n",
       "      <td>0.490260</td>\n",
       "      <td>0.783886</td>\n",
       "      <td>0.364165</td>\n",
       "      <td>0.535721</td>\n",
       "      <td>0.349975</td>\n",
       "      <td>0.552053</td>\n",
       "      <td>0.439660</td>\n",
       "      <td>1.0</td>\n",
       "    </tr>\n",
       "    <tr>\n",
       "      <th>3995</th>\n",
       "      <td>0.514342</td>\n",
       "      <td>0.591998</td>\n",
       "      <td>0.291458</td>\n",
       "      <td>0.547366</td>\n",
       "      <td>0.687647</td>\n",
       "      <td>0.562411</td>\n",
       "      <td>0.443509</td>\n",
       "      <td>0.715285</td>\n",
       "      <td>0.641986</td>\n",
       "      <td>1.0</td>\n",
       "    </tr>\n",
       "  </tbody>\n",
       "</table>\n",
       "<p>3996 rows × 10 columns</p>\n",
       "</div>"
      ],
      "text/plain": [
       "            ph  Hardness    Solids  Chloramines   Sulfate  Conductivity  \\\n",
       "0     0.502784  0.571139  0.336096     0.543891  0.680385      0.669439   \n",
       "1     0.265434  0.297400  0.300611     0.491839  0.602571      0.719411   \n",
       "2     0.578509  0.641311  0.321619     0.698543  0.563298      0.414652   \n",
       "3     0.594055  0.605536  0.356244     0.603314  0.647347      0.317880   \n",
       "4     0.649445  0.484851  0.289922     0.484900  0.514545      0.379337   \n",
       "...        ...       ...       ...          ...       ...           ...   \n",
       "3991  0.560356  0.434710  0.215044     0.535173  0.515598      0.341800   \n",
       "3992  0.369342  0.453484  0.419993     0.555453  0.659636      0.310077   \n",
       "3993  0.514873  0.394047  0.550464     0.706030  0.415335      0.544953   \n",
       "3994  0.500670  0.484272  0.490260     0.783886  0.364165      0.535721   \n",
       "3995  0.514342  0.591998  0.291458     0.547366  0.687647      0.562411   \n",
       "\n",
       "      Organic_carbon  Trihalomethanes  Turbidity  Potability  \n",
       "0           0.313402         0.699753   0.286091         0.0  \n",
       "1           0.497319         0.450999   0.576793         0.0  \n",
       "2           0.562017         0.532866   0.303637         0.0  \n",
       "3           0.622089         0.808065   0.601015         0.0  \n",
       "4           0.358555         0.253606   0.496327         0.0  \n",
       "...              ...              ...        ...         ...  \n",
       "3991        0.578386         0.497830   0.644700         1.0  \n",
       "3992        0.418230         0.518917   0.459890         1.0  \n",
       "3993        0.446907         0.582838   0.610959         1.0  \n",
       "3994        0.349975         0.552053   0.439660         1.0  \n",
       "3995        0.443509         0.715285   0.641986         1.0  \n",
       "\n",
       "[3996 rows x 10 columns]"
      ]
     },
     "execution_count": 173,
     "metadata": {},
     "output_type": "execute_result"
    }
   ],
   "source": [
    "import sys\n",
    "import os\n",
    "\n",
    "sys.path.append(os.path.abspath(os.path.join(os.path.dirname('Utils'), '..')))\n",
    "from Utils.data_utils import load_preprocessed_data_from_folder\n",
    "\n",
    "# Load the data from the CSV file into a pandas DataFrame\n",
    "data = load_preprocessed_data_from_folder()\n",
    "\n",
    "data"
   ]
  },
  {
   "cell_type": "code",
   "execution_count": 174,
   "metadata": {},
   "outputs": [
    {
     "data": {
      "text/plain": [
       "(            ph  Hardness    Solids  Chloramines   Sulfate  Conductivity  \\\n",
       " 3061  0.284931  0.611712  0.654354     0.558546  0.513594      0.380450   \n",
       " 1369  0.580090  0.554683  0.411974     0.484982  0.525780      0.403077   \n",
       " 2705  0.377905  0.409878  0.146851     0.698244  0.652066      0.495034   \n",
       " 1497  0.620939  0.622964  0.266622     0.667320  0.642856      0.636075   \n",
       " 3985  0.497542  0.599841  0.312812     0.223226  0.524555      0.464740   \n",
       " ...        ...       ...       ...          ...       ...           ...   \n",
       " 3213  0.527460  0.761007  0.456901     0.441687  0.588194      0.647653   \n",
       " 1912  0.554299  0.575921  0.557073     0.593220  0.483286      0.289752   \n",
       " 2264  0.456882  0.286765  0.325004     0.580175  0.847590      0.443806   \n",
       " 909   0.501203  0.435015  0.290513     0.434525  0.663361      0.507119   \n",
       " 2417  0.511361  0.413674  0.414915     0.770061  0.677772      0.260670   \n",
       " \n",
       "       Organic_carbon  Trihalomethanes  Turbidity  Potability  \n",
       " 3061        0.344319         0.699481   0.559541         0.0  \n",
       " 1369        0.391546         0.478860   0.563114         0.0  \n",
       " 2705        0.345625         0.542812   0.393378         0.0  \n",
       " 1497        0.194751         0.588937   0.612185         1.0  \n",
       " 3985        0.405017         0.624842   0.109356         1.0  \n",
       " ...              ...              ...        ...         ...  \n",
       " 3213        0.461797         0.548959   0.231431         1.0  \n",
       " 1912        0.657117         0.648082   0.593785         1.0  \n",
       " 2264        0.370945         0.429339   0.566441         0.0  \n",
       " 909         0.325387         0.359105   0.501304         0.0  \n",
       " 2417        0.507580         0.409293   0.537279         1.0  \n",
       " \n",
       " [3196 rows x 10 columns],\n",
       "             ph  Hardness    Solids  Chloramines   Sulfate  Conductivity  \\\n",
       " 3245  0.535040  0.511820  0.400459     0.530530  0.569459      0.654121   \n",
       " 2278  0.455837  0.552076  0.330555     0.430273  0.530406      0.285238   \n",
       " 1388  0.630595  0.517039  0.216842     0.531817  0.794224      0.274593   \n",
       " 1960  0.580591  0.666452  0.322358     0.374704  0.625137      0.357759   \n",
       " 2525  0.406580  0.429734  0.362447     0.495553  0.511665      0.609571   \n",
       " ...        ...       ...       ...          ...       ...           ...   \n",
       " 3961  0.544899  0.441175  0.526881     0.442155  0.401650      0.203620   \n",
       " 1702  0.301530  0.265253  0.559044     0.595608  0.802717      0.446423   \n",
       " 1830  0.386036  0.767057  0.161679     0.727687  0.340061      0.376714   \n",
       " 3891  0.517573  0.534997  0.431940     0.514908  0.652520      0.472043   \n",
       " 752   0.407134  0.406264  0.519757     0.383403  0.526632      0.560032   \n",
       " \n",
       "       Organic_carbon  Trihalomethanes  Turbidity  Potability  \n",
       " 3245        0.565489         0.448644   0.544846         1.0  \n",
       " 2278        0.553694         0.548223   0.606484         0.0  \n",
       " 1388        0.626188         0.580657   0.303048         0.0  \n",
       " 1960        0.491114         0.507885   0.610464         1.0  \n",
       " 2525        0.355250         0.543330   0.611153         0.0  \n",
       " ...              ...              ...        ...         ...  \n",
       " 3961        0.457660         0.611835   0.443114         1.0  \n",
       " 1702        0.467274         0.518112   0.534829         0.0  \n",
       " 1830        0.510046         0.527878   0.481788         0.0  \n",
       " 3891        0.396823         0.395360   0.280829         1.0  \n",
       " 752         0.222529         0.447277   0.182719         1.0  \n",
       " \n",
       " [800 rows x 10 columns])"
      ]
     },
     "execution_count": 174,
     "metadata": {},
     "output_type": "execute_result"
    }
   ],
   "source": [
    "from sklearn.model_selection import train_test_split\n",
    "\n",
    "TEST_SIZE = 0.2\n",
    "NUM_FOLDS = 5\n",
    "\n",
    "train_df, test_df = train_test_split(data, test_size=TEST_SIZE)\n",
    "train_df, test_df"
   ]
  },
  {
   "cell_type": "code",
   "execution_count": 175,
   "metadata": {},
   "outputs": [],
   "source": [
    "# bisect the data into features and target (potability)\n",
    "train_x = train_df.drop('Potability', axis=1)\n",
    "train_y = train_df['Potability']\n",
    "\n",
    "test_x = test_df.drop('Potability', axis=1)\n",
    "test_y = test_df['Potability']"
   ]
  },
  {
   "cell_type": "code",
   "execution_count": 176,
   "metadata": {},
   "outputs": [
    {
     "name": "stdout",
     "output_type": "stream",
     "text": [
      "Random Forest test accuracy: 76.50%\n"
     ]
    }
   ],
   "source": [
    "# Naive random forest model\n",
    "\n",
    "from sklearn.ensemble import RandomForestClassifier\n",
    "\n",
    "random_forest = RandomForestClassifier()\n",
    "random_forest.fit(train_x, train_y)\n",
    "\n",
    "print(f'Random Forest test accuracy: {random_forest.score(test_x, test_y):0.2%}')"
   ]
  },
  {
   "cell_type": "code",
   "execution_count": 177,
   "metadata": {},
   "outputs": [
    {
     "name": "stdout",
     "output_type": "stream",
     "text": [
      "Fitting 5 folds for each of 36 candidates, totalling 180 fits\n",
      "Random Forest test accuracy: 75.64%\n"
     ]
    }
   ],
   "source": [
    "from sklearn.model_selection import GridSearchCV\n",
    "\n",
    "params = {\n",
    "  'n_estimators': [100, 200],\n",
    "  # 'max_depth': [None, 10, 20, 50],\n",
    "  'min_samples_split': [2, 5, 10],\n",
    "  'min_samples_leaf': [1, 2, 4],\n",
    "  'criterion': ['gini', 'entropy']\n",
    "}\n",
    "\n",
    "grid_search = GridSearchCV(random_forest, params, scoring='f1', verbose=4, cv=NUM_FOLDS, n_jobs=-1)\n",
    "grid_search.fit(train_x, train_y)\n",
    "\n",
    "print(f'Random Forest test accuracy: {grid_search.score(test_x, test_y):0.2%}')"
   ]
  },
  {
   "cell_type": "code",
   "execution_count": 178,
   "metadata": {},
   "outputs": [
    {
     "name": "stdout",
     "output_type": "stream",
     "text": [
      "Best model: RandomForestClassifier(min_samples_split=5, n_estimators=200), best params: {'criterion': 'gini', 'min_samples_leaf': 1, 'min_samples_split': 5, 'n_estimators': 200}\n",
      "Best model score: 76.25%\n"
     ]
    }
   ],
   "source": [
    "best_model = grid_search.best_estimator_\n",
    "print(f'Best model: {best_model}, best params: {grid_search.best_params_}')\n",
    "\n",
    "print(f'Best model score: {best_model.score(test_x, test_y):0.2%}')"
   ]
  },
  {
   "cell_type": "code",
   "execution_count": 179,
   "metadata": {},
   "outputs": [
    {
     "name": "stdout",
     "output_type": "stream",
     "text": [
      "Calibrated Random Forest test accuracy: 76.12%\n"
     ]
    }
   ],
   "source": [
    "from sklearn.calibration import CalibratedClassifierCV\n",
    "\n",
    "ideal_rf = RandomForestClassifier(**grid_search.best_params_)\n",
    "\n",
    "calibrated_rf = CalibratedClassifierCV(ideal_rf, cv=NUM_FOLDS)\n",
    "calibrated_rf.fit(train_x, train_y)\n",
    "\n",
    "print(f'Calibrated Random Forest test accuracy: {calibrated_rf.score(test_x, test_y):0.2%}')"
   ]
  },
  {
   "cell_type": "code",
   "execution_count": 180,
   "metadata": {},
   "outputs": [
    {
     "data": {
      "text/plain": [
       "array([[0.70661595, 0.29338405],\n",
       "       [0.38875292, 0.61124708],\n",
       "       [0.80175828, 0.19824172],\n",
       "       ...,\n",
       "       [0.80243294, 0.19756706],\n",
       "       [0.11828965, 0.88171035],\n",
       "       [0.56096981, 0.43903019]])"
      ]
     },
     "execution_count": 180,
     "metadata": {},
     "output_type": "execute_result"
    }
   ],
   "source": [
    "calibrated_rf.predict_proba(test_x)"
   ]
  },
  {
   "cell_type": "code",
   "execution_count": 181,
   "metadata": {},
   "outputs": [
    {
     "data": {
      "image/png": "[encoded data removed]",
      "text/plain": [
       "<Figure size 800x800 with 1 Axes>"
      ]
     },
     "metadata": {},
     "output_type": "display_data"
    }
   ],
   "source": [
    "import matplotlib.pyplot as plt\n",
    "import numpy as np\n",
    "\n",
    "# Create a zipped array of sample index, predicted proability and true label\n",
    "results = np.column_stack((calibrated_rf.predict_proba(test_x)[:, 1], calibrated_rf.predict(test_x), test_y))\n",
    "\n",
    "# Sort by true label\n",
    "results = results[results[:, 2].argsort()]\n",
    "\n",
    "# Plot the predicted probabilities & true labels\n",
    "\n",
    "plt.figure(figsize=(8, 8))\n",
    "plt.scatter(range(len(results)), results[:, 0], label='Predicted probability', c='orange', s=5)\n",
    "plt.scatter(range(len(results)), results[:, 1], label='Predicted label', c='red', s=2)\n",
    "plt.plot(results[:, 2], label='True label')\n",
    "plt.legend()\n",
    "\n",
    "plt.show()\n",
    "\n",
    "\n"
   ]
  }
 ],
 "metadata": {
  "kernelspec": {
   "display_name": "TechnionAiProg",
   "language": "python",
   "name": "python3"
  },
  "language_info": {
   "codemirror_mode": {
    "name": "ipython",
    "version": 3
   },
   "file_extension": ".py",
   "mimetype": "text/x-python",
   "name": "python",
   "nbconvert_exporter": "python",
   "pygments_lexer": "ipython3",
   "version": "3.11.8"
  }
 },
 "nbformat": 4,
 "nbformat_minor": 2
}
