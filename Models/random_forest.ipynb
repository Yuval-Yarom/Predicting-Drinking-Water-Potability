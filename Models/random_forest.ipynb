{
 "cells": [
  {
   "cell_type": "code",
   "execution_count": 50,
   "metadata": {},
   "outputs": [
    {
     "data": {
      "text/html": [
       "<div>\n",
       "<style scoped>\n",
       "    .dataframe tbody tr th:only-of-type {\n",
       "        vertical-align: middle;\n",
       "    }\n",
       "\n",
       "    .dataframe tbody tr th {\n",
       "        vertical-align: top;\n",
       "    }\n",
       "\n",
       "    .dataframe thead th {\n",
       "        text-align: right;\n",
       "    }\n",
       "</style>\n",
       "<table border=\"1\" class=\"dataframe\">\n",
       "  <thead>\n",
       "    <tr style=\"text-align: right;\">\n",
       "      <th></th>\n",
       "      <th>ph</th>\n",
       "      <th>Hardness</th>\n",
       "      <th>Solids</th>\n",
       "      <th>Chloramines</th>\n",
       "      <th>Sulfate</th>\n",
       "      <th>Conductivity</th>\n",
       "      <th>Organic_carbon</th>\n",
       "      <th>Trihalomethanes</th>\n",
       "      <th>Turbidity</th>\n",
       "      <th>Potability</th>\n",
       "    </tr>\n",
       "  </thead>\n",
       "  <tbody>\n",
       "    <tr>\n",
       "      <th>0</th>\n",
       "      <td>0.502784</td>\n",
       "      <td>0.571139</td>\n",
       "      <td>0.336096</td>\n",
       "      <td>0.543891</td>\n",
       "      <td>0.680385</td>\n",
       "      <td>0.669439</td>\n",
       "      <td>0.313402</td>\n",
       "      <td>0.699753</td>\n",
       "      <td>0.286091</td>\n",
       "      <td>0.0</td>\n",
       "    </tr>\n",
       "    <tr>\n",
       "      <th>1</th>\n",
       "      <td>0.265434</td>\n",
       "      <td>0.297400</td>\n",
       "      <td>0.300611</td>\n",
       "      <td>0.491839</td>\n",
       "      <td>0.602571</td>\n",
       "      <td>0.719411</td>\n",
       "      <td>0.497319</td>\n",
       "      <td>0.450999</td>\n",
       "      <td>0.576793</td>\n",
       "      <td>0.0</td>\n",
       "    </tr>\n",
       "    <tr>\n",
       "      <th>2</th>\n",
       "      <td>0.578509</td>\n",
       "      <td>0.641311</td>\n",
       "      <td>0.321619</td>\n",
       "      <td>0.698543</td>\n",
       "      <td>0.563298</td>\n",
       "      <td>0.414652</td>\n",
       "      <td>0.562017</td>\n",
       "      <td>0.532866</td>\n",
       "      <td>0.303637</td>\n",
       "      <td>0.0</td>\n",
       "    </tr>\n",
       "    <tr>\n",
       "      <th>3</th>\n",
       "      <td>0.594055</td>\n",
       "      <td>0.605536</td>\n",
       "      <td>0.356244</td>\n",
       "      <td>0.603314</td>\n",
       "      <td>0.647347</td>\n",
       "      <td>0.317880</td>\n",
       "      <td>0.622089</td>\n",
       "      <td>0.808065</td>\n",
       "      <td>0.601015</td>\n",
       "      <td>0.0</td>\n",
       "    </tr>\n",
       "    <tr>\n",
       "      <th>4</th>\n",
       "      <td>0.649445</td>\n",
       "      <td>0.484851</td>\n",
       "      <td>0.289922</td>\n",
       "      <td>0.484900</td>\n",
       "      <td>0.514545</td>\n",
       "      <td>0.379337</td>\n",
       "      <td>0.358555</td>\n",
       "      <td>0.253606</td>\n",
       "      <td>0.496327</td>\n",
       "      <td>0.0</td>\n",
       "    </tr>\n",
       "    <tr>\n",
       "      <th>...</th>\n",
       "      <td>...</td>\n",
       "      <td>...</td>\n",
       "      <td>...</td>\n",
       "      <td>...</td>\n",
       "      <td>...</td>\n",
       "      <td>...</td>\n",
       "      <td>...</td>\n",
       "      <td>...</td>\n",
       "      <td>...</td>\n",
       "      <td>...</td>\n",
       "    </tr>\n",
       "    <tr>\n",
       "      <th>3991</th>\n",
       "      <td>0.560356</td>\n",
       "      <td>0.434710</td>\n",
       "      <td>0.215044</td>\n",
       "      <td>0.535173</td>\n",
       "      <td>0.515598</td>\n",
       "      <td>0.341800</td>\n",
       "      <td>0.578386</td>\n",
       "      <td>0.497830</td>\n",
       "      <td>0.644700</td>\n",
       "      <td>1.0</td>\n",
       "    </tr>\n",
       "    <tr>\n",
       "      <th>3992</th>\n",
       "      <td>0.369342</td>\n",
       "      <td>0.453484</td>\n",
       "      <td>0.419993</td>\n",
       "      <td>0.555453</td>\n",
       "      <td>0.659636</td>\n",
       "      <td>0.310077</td>\n",
       "      <td>0.418230</td>\n",
       "      <td>0.518917</td>\n",
       "      <td>0.459890</td>\n",
       "      <td>1.0</td>\n",
       "    </tr>\n",
       "    <tr>\n",
       "      <th>3993</th>\n",
       "      <td>0.514873</td>\n",
       "      <td>0.394047</td>\n",
       "      <td>0.550464</td>\n",
       "      <td>0.706030</td>\n",
       "      <td>0.415335</td>\n",
       "      <td>0.544953</td>\n",
       "      <td>0.446907</td>\n",
       "      <td>0.582838</td>\n",
       "      <td>0.610959</td>\n",
       "      <td>1.0</td>\n",
       "    </tr>\n",
       "    <tr>\n",
       "      <th>3994</th>\n",
       "      <td>0.500670</td>\n",
       "      <td>0.484272</td>\n",
       "      <td>0.490260</td>\n",
       "      <td>0.783886</td>\n",
       "      <td>0.364165</td>\n",
       "      <td>0.535721</td>\n",
       "      <td>0.349975</td>\n",
       "      <td>0.552053</td>\n",
       "      <td>0.439660</td>\n",
       "      <td>1.0</td>\n",
       "    </tr>\n",
       "    <tr>\n",
       "      <th>3995</th>\n",
       "      <td>0.514342</td>\n",
       "      <td>0.591998</td>\n",
       "      <td>0.291458</td>\n",
       "      <td>0.547366</td>\n",
       "      <td>0.687647</td>\n",
       "      <td>0.562411</td>\n",
       "      <td>0.443509</td>\n",
       "      <td>0.715285</td>\n",
       "      <td>0.641986</td>\n",
       "      <td>1.0</td>\n",
       "    </tr>\n",
       "  </tbody>\n",
       "</table>\n",
       "<p>3996 rows × 10 columns</p>\n",
       "</div>"
      ],
      "text/plain": [
       "            ph  Hardness    Solids  Chloramines   Sulfate  Conductivity  \\\n",
       "0     0.502784  0.571139  0.336096     0.543891  0.680385      0.669439   \n",
       "1     0.265434  0.297400  0.300611     0.491839  0.602571      0.719411   \n",
       "2     0.578509  0.641311  0.321619     0.698543  0.563298      0.414652   \n",
       "3     0.594055  0.605536  0.356244     0.603314  0.647347      0.317880   \n",
       "4     0.649445  0.484851  0.289922     0.484900  0.514545      0.379337   \n",
       "...        ...       ...       ...          ...       ...           ...   \n",
       "3991  0.560356  0.434710  0.215044     0.535173  0.515598      0.341800   \n",
       "3992  0.369342  0.453484  0.419993     0.555453  0.659636      0.310077   \n",
       "3993  0.514873  0.394047  0.550464     0.706030  0.415335      0.544953   \n",
       "3994  0.500670  0.484272  0.490260     0.783886  0.364165      0.535721   \n",
       "3995  0.514342  0.591998  0.291458     0.547366  0.687647      0.562411   \n",
       "\n",
       "      Organic_carbon  Trihalomethanes  Turbidity  Potability  \n",
       "0           0.313402         0.699753   0.286091         0.0  \n",
       "1           0.497319         0.450999   0.576793         0.0  \n",
       "2           0.562017         0.532866   0.303637         0.0  \n",
       "3           0.622089         0.808065   0.601015         0.0  \n",
       "4           0.358555         0.253606   0.496327         0.0  \n",
       "...              ...              ...        ...         ...  \n",
       "3991        0.578386         0.497830   0.644700         1.0  \n",
       "3992        0.418230         0.518917   0.459890         1.0  \n",
       "3993        0.446907         0.582838   0.610959         1.0  \n",
       "3994        0.349975         0.552053   0.439660         1.0  \n",
       "3995        0.443509         0.715285   0.641986         1.0  \n",
       "\n",
       "[3996 rows x 10 columns]"
      ]
     },
     "execution_count": 50,
     "metadata": {},
     "output_type": "execute_result"
    }
   ],
   "source": [
    "import sys\n",
    "import os\n",
    "\n",
    "sys.path.append(os.path.abspath(os.path.join(os.path.dirname('Utils'), '..')))\n",
    "from Utils.data_utils import load_preprocessed_data_from_folder\n",
    "\n",
    "# Load the data from the CSV file into a pandas DataFrame\n",
    "data = load_preprocessed_data_from_folder()\n",
    "\n",
    "data"
   ]
  },
  {
   "cell_type": "code",
   "execution_count": 122,
   "metadata": {},
   "outputs": [
    {
     "data": {
      "text/plain": [
       "(            ph  Hardness    Solids  Chloramines   Sulfate  Conductivity  \\\n",
       " 915   0.439526  0.688115  0.356796     0.605753  0.503477      0.530926   \n",
       " 3205  0.477293  0.656063  0.121241     0.437992  0.666240      0.127494   \n",
       " 2005  0.494831  0.556918  0.203256     0.576265  0.755873      0.494075   \n",
       " 7     0.616846  0.565593  0.219208     0.329629  0.495155      0.512581   \n",
       " 1701  0.432472  0.655681  0.162461     0.440859  0.505061      0.454683   \n",
       " ...        ...       ...       ...          ...       ...           ...   \n",
       " 2397  0.539702  0.518803  0.477631     0.588405  0.627641      0.599767   \n",
       " 1695  0.451455  0.429427  0.331012     0.567825  0.639970      0.421183   \n",
       " 2495  0.464897  0.493510  0.202853     0.737832  0.542199      0.526286   \n",
       " 366   0.288378  0.885154  0.853738     0.581406  0.476033      0.384222   \n",
       " 1628  0.483555  0.474804  0.273524     0.524438  0.684333      0.206207   \n",
       " \n",
       "       Organic_carbon  Trihalomethanes  Turbidity  Potability  \n",
       " 915         0.569933         0.465433   0.487869         0.0  \n",
       " 3205        0.419174         0.519592   0.378111         1.0  \n",
       " 2005        0.493844         0.510186   0.436018         1.0  \n",
       " 7           0.389418         0.503483   0.558031         0.0  \n",
       " 1701        0.575829         0.524105   0.650248         0.0  \n",
       " ...              ...              ...        ...         ...  \n",
       " 2397        0.659316         0.639431   0.500883         1.0  \n",
       " 1695        0.482527         0.367551   0.241750         0.0  \n",
       " 2495        0.425660         0.374125   0.338518         0.0  \n",
       " 366         0.549537         0.706437   0.301578         1.0  \n",
       " 1628        0.632324         0.504053   0.453131         1.0  \n",
       " \n",
       " [3196 rows x 10 columns],\n",
       "             ph  Hardness    Solids  Chloramines   Sulfate  Conductivity  \\\n",
       " 1035  0.593574  0.599460  0.666848     0.575450  0.489317      0.321666   \n",
       " 364   0.356681  0.707995  0.222963     0.478728  0.603328      0.434275   \n",
       " 14    0.535445  0.572788  0.460824     0.369515  0.535846      0.460186   \n",
       " 1955  0.643883  0.645414  0.799409     0.442321  0.476183      0.462151   \n",
       " 726   0.016250  0.381216  0.635528     0.243483  0.439433      0.457360   \n",
       " ...        ...       ...       ...          ...       ...           ...   \n",
       " 1554  0.638718  0.610253  0.922200     0.225396  0.000000      0.630281   \n",
       " 504   0.384736  0.599078  0.653929     0.608394  0.539134      0.304380   \n",
       " 3531  0.427455  0.501851  0.412631     0.566750  0.618350      0.410843   \n",
       " 519   0.325160  0.542798  0.421111     0.666413  0.535030      0.490248   \n",
       " 3556  0.522628  0.588605  0.324104     0.418819  0.653860      0.304526   \n",
       " \n",
       "       Organic_carbon  Trihalomethanes  Turbidity  Potability  \n",
       " 1035        0.412715         0.565846   0.628812         0.0  \n",
       " 364         0.577573         0.490888   0.322142         1.0  \n",
       " 14          0.422541         0.564344   0.629114         0.0  \n",
       " 1955        0.538472         0.674605   0.586012         1.0  \n",
       " 726         0.421530         0.499624   0.396245         1.0  \n",
       " ...              ...              ...        ...         ...  \n",
       " 1554        0.272558         0.568629   0.549118         1.0  \n",
       " 504         0.580414         0.514943   0.418333         0.0  \n",
       " 3531        0.384451         0.494462   0.402895         1.0  \n",
       " 519         0.408176         0.556514   0.469428         0.0  \n",
       " 3556        0.252765         0.474840   0.592393         1.0  \n",
       " \n",
       " [800 rows x 10 columns])"
      ]
     },
     "execution_count": 122,
     "metadata": {},
     "output_type": "execute_result"
    }
   ],
   "source": [
    "from sklearn.model_selection import train_test_split\n",
    "\n",
    "TEST_SIZE = 0.2\n",
    "NUM_FOLDS = 5\n",
    "\n",
    "train_df, test_df = train_test_split(data, test_size=TEST_SIZE)\n",
    "train_df, test_df"
   ]
  },
  {
   "cell_type": "code",
   "execution_count": 123,
   "metadata": {},
   "outputs": [],
   "source": [
    "# bisect the data into features and target (potability)\n",
    "train_x = train_df.drop('Potability', axis=1)\n",
    "train_y = train_df['Potability']\n",
    "\n",
    "test_x = test_df.drop('Potability', axis=1)\n",
    "test_y = test_df['Potability']"
   ]
  },
  {
   "cell_type": "code",
   "execution_count": 124,
   "metadata": {},
   "outputs": [
    {
     "name": "stdout",
     "output_type": "stream",
     "text": [
      "Random Forest test accuracy: 74.50%\n"
     ]
    }
   ],
   "source": [
    "# Naive random forest model\n",
    "\n",
    "from sklearn.ensemble import RandomForestClassifier\n",
    "\n",
    "random_forest = RandomForestClassifier()\n",
    "random_forest.fit(train_x, train_y)\n",
    "\n",
    "print(f'Random Forest test accuracy: {random_forest.score(test_x, test_y):0.2%}')"
   ]
  },
  {
   "cell_type": "code",
   "execution_count": 125,
   "metadata": {},
   "outputs": [
    {
     "name": "stdout",
     "output_type": "stream",
     "text": [
      "Fitting 5 folds for each of 36 candidates, totalling 180 fits\n",
      "Random Forest test accuracy: 76.25%\n"
     ]
    }
   ],
   "source": [
    "from sklearn.model_selection import GridSearchCV\n",
    "\n",
    "params = {\n",
    "  'n_estimators': [100, 200],\n",
    "  # 'max_depth': [None, 10, 20, 50],\n",
    "  'min_samples_split': [2, 5, 10],\n",
    "  'min_samples_leaf': [1, 2, 4],\n",
    "  'criterion': ['gini', 'entropy']\n",
    "}\n",
    "\n",
    "grid_search = GridSearchCV(random_forest, params, scoring='f1', verbose=4, cv=NUM_FOLDS, n_jobs=-1)\n",
    "grid_search.fit(train_x, train_y)\n",
    "\n",
    "print(f'Random Forest test accuracy: {grid_search.score(test_x, test_y):0.2%}')"
   ]
  },
  {
   "cell_type": "code",
   "execution_count": 132,
   "metadata": {},
   "outputs": [
    {
     "name": "stdout",
     "output_type": "stream",
     "text": [
      "Best model: RandomForestClassifier(n_estimators=200), best params: {'criterion': 'gini', 'min_samples_leaf': 1, 'min_samples_split': 2, 'n_estimators': 200}\n",
      "Best model score: 75.62%\n"
     ]
    }
   ],
   "source": [
    "best_model = grid_search.best_estimator_\n",
    "print(f'Best model: {best_model}, best params: {grid_search.best_params_}')\n",
    "\n",
    "print(f'Best model score: {best_model.score(test_x, test_y):0.2%}')"
   ]
  },
  {
   "cell_type": "code",
   "execution_count": 137,
   "metadata": {},
   "outputs": [
    {
     "name": "stdout",
     "output_type": "stream",
     "text": [
      "Calibrated Random Forest test accuracy: 75.38%\n"
     ]
    }
   ],
   "source": [
    "from sklearn.calibration import CalibratedClassifierCV\n",
    "\n",
    "ideal_rf = RandomForestClassifier(**grid_search.best_params_)\n",
    "\n",
    "calibrated_rf = CalibratedClassifierCV(ideal_rf, cv=NUM_FOLDS)\n",
    "calibrated_rf.fit(train_x, train_y)\n",
    "\n",
    "print(f'Calibrated Random Forest test accuracy: {calibrated_rf.score(test_x, test_y):0.2%}')"
   ]
  },
  {
   "cell_type": "code",
   "execution_count": 138,
   "metadata": {},
   "outputs": [
    {
     "data": {
      "text/plain": [
       "array([[0.18423024, 0.81576976],\n",
       "       [0.13554899, 0.86445101],\n",
       "       [0.55956193, 0.44043807],\n",
       "       ...,\n",
       "       [0.17308201, 0.82691799],\n",
       "       [0.93982354, 0.06017646],\n",
       "       [0.36190254, 0.63809746]])"
      ]
     },
     "execution_count": 138,
     "metadata": {},
     "output_type": "execute_result"
    }
   ],
   "source": [
    "calibrated_rf.predict_proba(test_x)"
   ]
  },
  {
   "cell_type": "code",
   "execution_count": 139,
   "metadata": {},
   "outputs": [
    {
     "data": {
      "image/png": "[encoded data removed]",
      "text/plain": [
       "<Figure size 800x800 with 1 Axes>"
      ]
     },
     "metadata": {},
     "output_type": "display_data"
    }
   ],
   "source": [
    "import matplotlib.pyplot as plt\n",
    "import numpy as np\n",
    "\n",
    "# Create a zipped array of sample index, predicted proability and true label\n",
    "results = np.column_stack((calibrated_rf.predict_proba(test_x)[:, 1], calibrated_rf.predict(test_x), test_y))\n",
    "\n",
    "# Sort by true label\n",
    "results = results[results[:, 2].argsort()]\n",
    "\n",
    "# Plot the predicted probabilities & true labels\n",
    "\n",
    "plt.figure(figsize=(8, 8))\n",
    "plt.scatter(range(len(results)), results[:, 0], label='Predicted probability', c='orange', s=5)\n",
    "plt.scatter(range(len(results)), results[:, 1], label='Predicted label', c='red', s=2)\n",
    "plt.plot(results[:, 2], label='True label')\n",
    "plt.legend()\n",
    "\n",
    "plt.show()\n",
    "\n",
    "\n"
   ]
  }
 ],
 "metadata": {
  "kernelspec": {
   "display_name": "TechnionAiProg",
   "language": "python",
   "name": "python3"
  },
  "language_info": {
   "codemirror_mode": {
    "name": "ipython",
    "version": 3
   },
   "file_extension": ".py",
   "mimetype": "text/x-python",
   "name": "python",
   "nbconvert_exporter": "python",
   "pygments_lexer": "ipython3",
   "version": "3.11.8"
  }
 },
 "nbformat": 4,
 "nbformat_minor": 2
}
